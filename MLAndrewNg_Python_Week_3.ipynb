{
 "cells": [
  {
   "cell_type": "markdown",
   "id": "79a6996d",
   "metadata": {},
   "source": [
    "# Week 3\n",
    "\n",
    "## Logistic regression Model\n",
    "\n",
    "Want $0 <= h_\\theta(x) <= 1$\n",
    "\n",
    "So define $h_\\theta(x) = g(\\theta^T x)$  \n",
    "\n",
    "where $g(z) = \\frac{1}{1 + \\exp(-z)}$  \n",
    "\n",
    "<div>\n",
    "<img src=\"attachment:image.png\" width=\"500\" align=\"center\"/>  \n",
    "</div>\n",
    "\n",
    "\n",
    "## Interpretation of Hypothesis Output\n",
    "\n",
    "$h_\\theta(x)$ = estimated probability that y=1 on input x\n",
    "\n",
    "Example:  \n",
    "Predict tumor size\n",
    "$x=\\begin{bmatrix}\n",
    "x_0\\\\\n",
    "x_1\n",
    "\\end{bmatrix}\n",
    "= \\begin{bmatrix}\n",
    "1\\\\\n",
    "tumorSize\n",
    "\\end{bmatrix}\n",
    "$\n",
    "\n",
    "$h_\\theta(x) = 0.7$ means 70% chance tumor is malignant.\n",
    "\n",
    "Same as:  \n",
    "\n",
    "$h_\\theta(x) = P(y=1 | x ; \\theta)$  means \"Probability that y = 1, given x, parameterized by theta\"\n",
    "\n",
    "\n",
    "## Decision Boundary\n",
    "\n",
    "<div>\n",
    "<img src=\"attachment:image-3.png\" width=\"500\" align=\"center\"/>  \n",
    "</div>\n",
    "\n",
    "Note the theta matrix. Alternatively, the hypothesis can be rewritten as x_1 + x_2 >= 3."
   ]
  },
  {
   "cell_type": "markdown",
   "id": "8bae8c2e",
   "metadata": {},
   "source": [
    "## Logistic regression cost function\n",
    "\n",
    "$Cost(h_\\theta(x),y) = \\begin{cases}\n",
    "-log(h_\\theta(x)) &\\text{if y=1} \\\\\n",
    "-log(1-h_\\theta(x)) &\\text{if y=0} \\\\ \n",
    "\\end{cases}\n",
    "$\n",
    "\n",
    "<div>\n",
    "    <img src=\"attachment:image.png\" width=\"500\" align=\"center\"/>\n",
    "    <img src=\"attachment:image-2.png\" width=\"500\" align=\"center\"/>\n",
    "</div>\n"
   ]
  },
  {
   "cell_type": "markdown",
   "id": "1f115a74",
   "metadata": {},
   "source": [
    "Alternate form that satisfies both piecewise conditions:  \n",
    "$Cost(h_\\theta(x),y) = -ylog(h_\\theta(x)) - (1-y)log(1-h_\\theta(x))$\n",
    "\n",
    "$J(θ)=(\\frac{1}{m}) \\sum_{i=0}^{m} Cost(h_\\theta(x^{(i)}), y^{(i)})$  \n",
    "$= -(\\frac{1}{m})[\\sum_{i=0}^{m} y^{(i)}log(h_\\theta(x^{(i)})) + (1-y^{(i)})log(1-h_\\theta(x^{(i)}))]$  \n",
    "\n",
    "J is the overall cost function. $Cost(h_\\theta(x^{(i)}), y^{(i)})$ is the cost of making different predictions on different labels of y^(i).  \n",
    "\n",
    "To fit parameters theta, need to minize J(theta) to make a prediction given new x:\n",
    "\n",
    "$h_\\theta(x) = \\frac{1}{1 + \\exp(-\\theta^T x)}$  (for logistic regression)  \n",
    "\n",
    "To minimize J(theta):  (alpha is learning rate)  \n",
    "repeat {  \n",
    "    $\\theta_j := \\theta_j - \\alpha \\sum_{i=1}^{m} (h_\\theta(x^{(i)}) - y^{(i)}) x_j^{(i)}$  \n",
    "}  \n",
    "\n",
    "The above formula is exactly the same as for linear regression, but the difference is that h_theta, the hypothesis, is a logistic function rather than a linear function.\n",
    "\n",
    "<div>\n",
    "    <img src=\"attachment:image.png\" width=\"500\" align=\"left\"/>\n",
    "    <img src=\"attachment:image-2.png\" width=\"300\" align=\"left\"/>\n",
    "</div>\n"
   ]
  },
  {
   "cell_type": "markdown",
   "id": "1860f63f",
   "metadata": {},
   "source": [
    "## Advanced Optimization\n",
    "\n",
    "Optimization Algorithms:\n",
    "- Gradient descent\n",
    "- Conjugate gradient\n",
    "- BFGS\n",
    "- L-BFGS\n",
    "\n",
    "Latter 3:\n",
    "- Advantages:\n",
    "    - no need to manually pick alpha\n",
    "    - often faster than gradient descent\n",
    "- Disadvantages:\n",
    "    - more complex\n",
    "    \n",
    "![image.png](attachment:image.png)"
   ]
  },
  {
   "cell_type": "code",
   "execution_count": null,
   "id": "2456ef67",
   "metadata": {},
   "outputs": [],
   "source": [
    "def costFunction(theta):\n",
    "    # code to compute J(theta)\n",
    "    jVal = \"...\"\n",
    "    \n",
    "    # code to compute partial derivative d/(d theta_0) J(theta)\n",
    "    gradient0 = \"...\"\n",
    "    # code to compute partial derivative d/(d theta_1) J(theta)\n",
    "    gradient1 = \"...\"\n",
    "    \n",
    "    return [jVal, gradient]"
   ]
  },
  {
   "cell_type": "markdown",
   "id": "7d5e8246",
   "metadata": {},
   "source": [
    "## The problem of overfitting\n",
    "\n",
    "### Regularization\n",
    "\n",
    "$J(\\theta) = (\\frac{1}{2m})[\\sum_{i=0}^{m}(h_\\theta(x^{(i)}) - y^{(i)})^2 + \\lambda \\sum_{j=1}^{n} \\theta_j^2]$\n",
    "\n",
    "In $\\lambda \\sum_{j=1}^{n} \\theta_j^2$, lambda is the regularization parameter: controls a tradeoff between 2 goals\n",
    "1. Fit training data well. \n",
    "2. Keep parameters small.\n",
    "\n",
    "If lambda is too large, the model will end up underfitting. We say that the \"hypothesis has too strong of a preconception\".\n",
    "\n",
    "### Regularized Linear Regression\n",
    "\n",
    "Gradient descent for regularized linear regression.\n",
    "\n"
   ]
  },
  {
   "cell_type": "markdown",
   "id": "5cfeec90",
   "metadata": {},
   "source": [
    "# Week 3 Assignment: Logistic Regression\n"
   ]
  }
 ],
 "metadata": {
  "kernelspec": {
   "display_name": "Python 3",
   "language": "python",
   "name": "python3"
  },
  "language_info": {
   "codemirror_mode": {
    "name": "ipython",
    "version": 3
   },
   "file_extension": ".py",
   "mimetype": "text/x-python",
   "name": "python",
   "nbconvert_exporter": "python",
   "pygments_lexer": "ipython3",
   "version": "3.7.4"
  }
 },
 "nbformat": 4,
 "nbformat_minor": 5
}
